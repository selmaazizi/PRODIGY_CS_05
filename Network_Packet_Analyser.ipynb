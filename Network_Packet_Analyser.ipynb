{
  "nbformat": 4,
  "nbformat_minor": 0,
  "metadata": {
    "colab": {
      "provenance": [],
      "authorship_tag": "ABX9TyO0nvArmJo+lGsRpUkZSDdx",
      "include_colab_link": true
    },
    "kernelspec": {
      "name": "python3",
      "display_name": "Python 3"
    },
    "language_info": {
      "name": "python"
    }
  },
  "cells": [
    {
      "cell_type": "markdown",
      "metadata": {
        "id": "view-in-github",
        "colab_type": "text"
      },
      "source": [
        "<a href=\"https://colab.research.google.com/github/selmaazizi/PRODIGY_CS_05/blob/main/Network_Packet_Analyser.ipynb\" target=\"_parent\"><img src=\"https://colab.research.google.com/assets/colab-badge.svg\" alt=\"Open In Colab\"/></a>"
      ]
    },
    {
      "cell_type": "code",
      "execution_count": null,
      "metadata": {
        "id": "F5GRRlCL3TSV",
        "colab": {
          "base_uri": "https://localhost:8080/"
        },
        "outputId": "8900f1e1-32ad-44f5-e0cd-403c8f404bf1"
      },
      "outputs": [
        {
          "output_type": "stream",
          "name": "stdout",
          "text": [
            "Requirement already satisfied: scapy in /usr/local/lib/python3.11/dist-packages (2.6.1)\n",
            "Starting packet capture...\n",
            "Packet Captured: Ether / IP / TCP 172.28.0.1:39138 > 172.28.0.12:8080 S\n",
            "Source IP: 172.28.0.1, Destination IP: 172.28.0.12\n",
            "Protocol: 6\n",
            "Packet Captured: Ether / IP / TCP 172.28.0.12:8080 > 172.28.0.1:39138 SA\n",
            "Source IP: 172.28.0.12, Destination IP: 172.28.0.1\n",
            "Protocol: 6\n",
            "Packet Captured: Ether / IP / TCP 172.28.0.1:39138 > 172.28.0.12:8080 A\n",
            "Source IP: 172.28.0.1, Destination IP: 172.28.0.12\n",
            "Protocol: 6\n",
            "Packet Captured: Ether / IP / TCP 172.28.0.1:39138 > 172.28.0.12:8080 PA / Raw\n",
            "Source IP: 172.28.0.1, Destination IP: 172.28.0.12\n",
            "Protocol: 6\n",
            "Packet Captured: Ether / IP / TCP 172.28.0.12:8080 > 172.28.0.1:39138 A\n",
            "Source IP: 172.28.0.12, Destination IP: 172.28.0.1\n",
            "Protocol: 6\n",
            "Packet Captured: Ether / IP / TCP 172.28.0.12:8080 > 172.28.0.1:39138 PA / Raw\n",
            "Source IP: 172.28.0.12, Destination IP: 172.28.0.1\n",
            "Protocol: 6\n",
            "Packet Captured: Ether / IP / TCP 172.28.0.1:39138 > 172.28.0.12:8080 A\n",
            "Source IP: 172.28.0.1, Destination IP: 172.28.0.12\n",
            "Protocol: 6\n",
            "Packet Captured: Ether / IP / TCP 172.28.0.12:8080 > 172.28.0.1:39104 PA / Raw\n",
            "Source IP: 172.28.0.12, Destination IP: 172.28.0.1\n",
            "Protocol: 6\n",
            "Packet Captured: Ether / IP / TCP 172.28.0.1:39104 > 172.28.0.12:8080 A\n",
            "Source IP: 172.28.0.1, Destination IP: 172.28.0.12\n",
            "Protocol: 6\n",
            "Packet Captured: Ether / IP / TCP 172.28.0.1:39138 > 172.28.0.12:8080 PA / Raw\n",
            "Source IP: 172.28.0.1, Destination IP: 172.28.0.12\n",
            "Protocol: 6\n",
            "Packet capture complete.\n"
          ]
        }
      ],
      "source": [
        "!pip install scapy\n",
        "\n",
        "from scapy.all import sniff\n",
        "\n",
        "# Function to process captured packets\n",
        "def packet_callback(packet):\n",
        "    print(f\"Packet Captured: {packet.summary()}\")\n",
        "    if packet.haslayer(\"IP\"):\n",
        "        print(f\"Source IP: {packet['IP'].src}, Destination IP: {packet['IP'].dst}\")\n",
        "        print(f\"Protocol: {packet['IP'].proto}\")\n",
        "\n",
        "# Capture 10 packets (Modify as needed)\n",
        "print(\"Starting packet capture...\")\n",
        "sniff(prn=packet_callback, count=10, store=False)\n",
        "print(\"Packet capture complete.\")\n"
      ]
    }
  ]
}